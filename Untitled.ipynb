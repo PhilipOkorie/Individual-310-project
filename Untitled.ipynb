{
 "cells": [
  {
   "cell_type": "code",
   "execution_count": 1,
   "id": "4374f650-e4a5-4238-b72e-24153a879bf4",
   "metadata": {},
   "outputs": [
    {
     "name": "stdout",
     "output_type": "stream",
     "text": [
      "Collecting tweepy\n",
      "  Downloading tweepy-4.8.0-py2.py3-none-any.whl (77 kB)\n",
      "\u001b[2K     \u001b[90m━━━━━━━━━━━━━━━━━━━━━━━━━━━━━━━━━━━━━━━\u001b[0m \u001b[32m77.4/77.4 KB\u001b[0m \u001b[31m484.0 kB/s\u001b[0m eta \u001b[36m0:00:00\u001b[0ma \u001b[36m0:00:01\u001b[0m\n",
      "\u001b[?25hCollecting requests-oauthlib<2,>=1.2.0\n",
      "  Downloading requests_oauthlib-1.3.1-py2.py3-none-any.whl (23 kB)\n",
      "Collecting oauthlib<4,>=3.2.0\n",
      "  Downloading oauthlib-3.2.0-py3-none-any.whl (151 kB)\n",
      "\u001b[2K     \u001b[90m━━━━━━━━━━━━━━━━━━━━━━━━━━━━━━━━━━━━━━━\u001b[0m \u001b[32m151.5/151.5 KB\u001b[0m \u001b[31m2.4 MB/s\u001b[0m eta \u001b[36m0:00:00\u001b[0ma \u001b[36m0:00:01\u001b[0m\n",
      "\u001b[?25hCollecting requests<3,>=2.27.0\n",
      "  Downloading requests-2.27.1-py2.py3-none-any.whl (63 kB)\n",
      "\u001b[2K     \u001b[90m━━━━━━━━━━━━━━━━━━━━━━━━━━━━━━━━━━━━━━━━\u001b[0m \u001b[32m63.1/63.1 KB\u001b[0m \u001b[31m2.3 MB/s\u001b[0m eta \u001b[36m0:00:00\u001b[0m\n",
      "\u001b[?25hRequirement already satisfied: charset-normalizer~=2.0.0 in /Users/philipokorie/opt/miniconda3/lib/python3.9/site-packages (from requests<3,>=2.27.0->tweepy) (2.0.0)\n",
      "Requirement already satisfied: idna<4,>=2.5 in /Users/philipokorie/opt/miniconda3/lib/python3.9/site-packages (from requests<3,>=2.27.0->tweepy) (3.1)\n",
      "Requirement already satisfied: certifi>=2017.4.17 in /Users/philipokorie/opt/miniconda3/lib/python3.9/site-packages (from requests<3,>=2.27.0->tweepy) (2021.10.8)\n",
      "Requirement already satisfied: urllib3<1.27,>=1.21.1 in /Users/philipokorie/opt/miniconda3/lib/python3.9/site-packages (from requests<3,>=2.27.0->tweepy) (1.26.7)\n",
      "Installing collected packages: requests, oauthlib, requests-oauthlib, tweepy\n",
      "  Attempting uninstall: requests\n",
      "    Found existing installation: requests 2.26.0\n",
      "    Uninstalling requests-2.26.0:\n",
      "      Successfully uninstalled requests-2.26.0\n",
      "Successfully installed oauthlib-3.2.0 requests-2.27.1 requests-oauthlib-1.3.1 tweepy-4.8.0\n"
     ]
    }
   ],
   "source": [
    "!pip install tweepy"
   ]
  },
  {
   "cell_type": "code",
   "execution_count": 1,
   "id": "8ee959e6-2dda-4c65-acf0-ebe13ef21db9",
   "metadata": {},
   "outputs": [],
   "source": [
    "\n",
    "import tweepy\n",
    "import pandas as pd"
   ]
  },
  {
   "cell_type": "code",
   "execution_count": 2,
   "id": "2f318004-6040-4f96-89e7-a53afe9d88a2",
   "metadata": {},
   "outputs": [],
   "source": [
    "consumerkey = \"ueQaTBvQNy9la96aDeO4e3nn8\"\n",
    "consumersecret = \"LVVExjxlpZlAHaySrTw0okcNSTiix2LDo4ALxaLJYqMZPb5ibd\"\n",
    "accesstoken = \"3297429638-z2y1cugaD49cH8XEZeli2VYe4yLMPjE72ZtZ1nm\"\n",
    "accesssecret = \"NkZhLAKCltu79L1pMLps2tgvlLzFA7hukMBQrzAxoEpqg\""
   ]
  },
  {
   "cell_type": "code",
   "execution_count": 3,
   "id": "2d1dba29-1cf6-434a-9ad1-89280b8977bb",
   "metadata": {},
   "outputs": [],
   "source": [
    "auth = tweepy.OAuthHandler(consumerkey, consumersecret)\n",
    "auth.set_access_token(accesstoken, accesssecret)\n",
    "api = tweepy.API(auth)"
   ]
  },
  {
   "cell_type": "code",
   "execution_count": 7,
   "id": "e537ce06-9433-4502-84dc-9b1d3a039842",
   "metadata": {},
   "outputs": [],
   "source": [
    "number_of_tweets = 10\n",
    "tweets =[]\n",
    "likes = []\n",
    "time = []\n",
    "\n",
    "for i in tweepy.Cursor(api.user_timeline, screen_name= \"BigSean\", tweet_mode= \"extended\").items(number_of_tweets):\n",
    "    tweets.append(i.full_text)\n",
    "    likes.append(i.favorite_count)\n",
    "    time.append(i.created_at)"
   ]
  },
  {
   "cell_type": "code",
   "execution_count": 8,
   "id": "ade0efda-8c50-4c4d-86d5-3cafe6ef8dfc",
   "metadata": {},
   "outputs": [],
   "source": [
    "cursor = tweepy.Cursor(api.user_timeline, screen_name= \"BigSean\", tweet_mode= \"extended\").items(1)"
   ]
  },
  {
   "cell_type": "code",
   "execution_count": 9,
   "id": "cc3c6212-e219-4029-8c34-7d2746ce0d9a",
   "metadata": {},
   "outputs": [
    {
     "name": "stdout",
     "output_type": "stream",
     "text": [
      "What’s the best that could happen?!!\n"
     ]
    }
   ],
   "source": [
    "for i in cursor:\n",
    "    print(i.full_text)"
   ]
  },
  {
   "cell_type": "code",
   "execution_count": 10,
   "id": "84ade002-fec7-498e-823a-cbdb863f5dbe",
   "metadata": {},
   "outputs": [],
   "source": [
    "df = pd.DataFrame({'tweets':tweets, 'likes':likes,'time':time})"
   ]
  },
  {
   "cell_type": "code",
   "execution_count": 11,
   "id": "caa4ed9e-959c-406a-9316-e7fae05ae57c",
   "metadata": {},
   "outputs": [
    {
     "data": {
      "text/html": [
       "<div>\n",
       "<style scoped>\n",
       "    .dataframe tbody tr th:only-of-type {\n",
       "        vertical-align: middle;\n",
       "    }\n",
       "\n",
       "    .dataframe tbody tr th {\n",
       "        vertical-align: top;\n",
       "    }\n",
       "\n",
       "    .dataframe thead th {\n",
       "        text-align: right;\n",
       "    }\n",
       "</style>\n",
       "<table border=\"1\" class=\"dataframe\">\n",
       "  <thead>\n",
       "    <tr style=\"text-align: right;\">\n",
       "      <th></th>\n",
       "      <th>tweets</th>\n",
       "      <th>likes</th>\n",
       "      <th>time</th>\n",
       "    </tr>\n",
       "  </thead>\n",
       "  <tbody>\n",
       "    <tr>\n",
       "      <th>0</th>\n",
       "      <td>What’s the best that could happen?!!</td>\n",
       "      <td>2787</td>\n",
       "      <td>2022-04-12 19:19:28+00:00</td>\n",
       "    </tr>\n",
       "    <tr>\n",
       "      <th>1</th>\n",
       "      <td>@MANUELCAV Yup</td>\n",
       "      <td>8</td>\n",
       "      <td>2022-04-12 01:10:02+00:00</td>\n",
       "    </tr>\n",
       "    <tr>\n",
       "      <th>2</th>\n",
       "      <td>@queennaija @AriliyahDaya 🔥🔥🔥🔥</td>\n",
       "      <td>84</td>\n",
       "      <td>2022-04-09 03:59:07+00:00</td>\n",
       "    </tr>\n",
       "    <tr>\n",
       "      <th>3</th>\n",
       "      <td>💎 https://t.co/0nr6jcPWQG</td>\n",
       "      <td>347</td>\n",
       "      <td>2022-03-30 04:16:16+00:00</td>\n",
       "    </tr>\n",
       "    <tr>\n",
       "      <th>4</th>\n",
       "      <td>RT @jayshetty: This week on the podcast I sit ...</td>\n",
       "      <td>0</td>\n",
       "      <td>2022-03-28 17:36:50+00:00</td>\n",
       "    </tr>\n",
       "    <tr>\n",
       "      <th>5</th>\n",
       "      <td>@DJ_Justrill @defjam 🤟🏾</td>\n",
       "      <td>18</td>\n",
       "      <td>2022-03-28 01:15:06+00:00</td>\n",
       "    </tr>\n",
       "    <tr>\n",
       "      <th>6</th>\n",
       "      <td>3/25 🎂 https://t.co/DmKtlDPrzA</td>\n",
       "      <td>13187</td>\n",
       "      <td>2022-03-25 23:45:19+00:00</td>\n",
       "    </tr>\n",
       "    <tr>\n",
       "      <th>7</th>\n",
       "      <td>Thank you! 3/25 🤟🏾🖤✨🎂🌍♈️ https://t.co/9TGuQ6mWXM</td>\n",
       "      <td>2884</td>\n",
       "      <td>2022-03-25 23:06:06+00:00</td>\n",
       "    </tr>\n",
       "    <tr>\n",
       "      <th>8</th>\n",
       "      <td>@MANUELCAV We got a couple tucked 😉</td>\n",
       "      <td>30</td>\n",
       "      <td>2022-03-20 06:59:54+00:00</td>\n",
       "    </tr>\n",
       "    <tr>\n",
       "      <th>9</th>\n",
       "      <td>@queennaija Let’s go!</td>\n",
       "      <td>282</td>\n",
       "      <td>2022-03-17 03:44:58+00:00</td>\n",
       "    </tr>\n",
       "  </tbody>\n",
       "</table>\n",
       "</div>"
      ],
      "text/plain": [
       "                                              tweets  likes  \\\n",
       "0               What’s the best that could happen?!!   2787   \n",
       "1                                     @MANUELCAV Yup      8   \n",
       "2                     @queennaija @AriliyahDaya 🔥🔥🔥🔥     84   \n",
       "3                          💎 https://t.co/0nr6jcPWQG    347   \n",
       "4  RT @jayshetty: This week on the podcast I sit ...      0   \n",
       "5                            @DJ_Justrill @defjam 🤟🏾     18   \n",
       "6                     3/25 🎂 https://t.co/DmKtlDPrzA  13187   \n",
       "7   Thank you! 3/25 🤟🏾🖤✨🎂🌍♈️ https://t.co/9TGuQ6mWXM   2884   \n",
       "8                @MANUELCAV We got a couple tucked 😉     30   \n",
       "9                              @queennaija Let’s go!    282   \n",
       "\n",
       "                       time  \n",
       "0 2022-04-12 19:19:28+00:00  \n",
       "1 2022-04-12 01:10:02+00:00  \n",
       "2 2022-04-09 03:59:07+00:00  \n",
       "3 2022-03-30 04:16:16+00:00  \n",
       "4 2022-03-28 17:36:50+00:00  \n",
       "5 2022-03-28 01:15:06+00:00  \n",
       "6 2022-03-25 23:45:19+00:00  \n",
       "7 2022-03-25 23:06:06+00:00  \n",
       "8 2022-03-20 06:59:54+00:00  \n",
       "9 2022-03-17 03:44:58+00:00  "
      ]
     },
     "execution_count": 11,
     "metadata": {},
     "output_type": "execute_result"
    }
   ],
   "source": [
    "df"
   ]
  },
  {
   "cell_type": "code",
   "execution_count": null,
   "id": "b716f601-f91c-44b6-b85f-3aae432179ef",
   "metadata": {},
   "outputs": [],
   "source": []
  }
 ],
 "metadata": {
  "kernelspec": {
   "display_name": "Python 3 (ipykernel)",
   "language": "python",
   "name": "python3"
  },
  "language_info": {
   "codemirror_mode": {
    "name": "ipython",
    "version": 3
   },
   "file_extension": ".py",
   "mimetype": "text/x-python",
   "name": "python",
   "nbconvert_exporter": "python",
   "pygments_lexer": "ipython3",
   "version": "3.9.5"
  }
 },
 "nbformat": 4,
 "nbformat_minor": 5
}
